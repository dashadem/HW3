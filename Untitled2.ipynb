{
  "nbformat": 4,
  "nbformat_minor": 0,
  "metadata": {
    "colab": {
      "provenance": [],
      "collapsed_sections": [
        "TrDXGZucrb7l",
        "NK2kQfIRsQMH"
      ],
      "authorship_tag": "ABX9TyMkD/G+VVyxhXEja/fmHNZn",
      "include_colab_link": true
    },
    "kernelspec": {
      "name": "python3",
      "display_name": "Python 3"
    },
    "language_info": {
      "name": "python"
    }
  },
  "cells": [
    {
      "cell_type": "markdown",
      "metadata": {
        "id": "view-in-github",
        "colab_type": "text"
      },
      "source": [
        "<a href=\"https://colab.research.google.com/github/dashadem/HW3/blob/master/Untitled2.ipynb\" target=\"_parent\"><img src=\"https://colab.research.google.com/assets/colab-badge.svg\" alt=\"Open In Colab\"/></a>"
      ]
    },
    {
      "cell_type": "markdown",
      "source": [
        "# HPC. Homework 2."
      ],
      "metadata": {
        "id": "r04xgDkVppYP"
      }
    },
    {
      "cell_type": "markdown",
      "source": [
        "## II.1"
      ],
      "metadata": {
        "id": "CplWSdONpeDE"
      }
    },
    {
      "cell_type": "markdown",
      "source": [
        "To define variable *sum* as global, we can fix the bug."
      ],
      "metadata": {
        "id": "Rny2lNJGqcKB"
      }
    },
    {
      "cell_type": "code",
      "execution_count": 203,
      "metadata": {
        "colab": {
          "base_uri": "https://localhost:8080/"
        },
        "id": "OyX4RuuipcXz",
        "outputId": "c21ae016-af3a-4968-8c99-331630cc3333"
      },
      "outputs": [
        {
          "output_type": "stream",
          "name": "stdout",
          "text": [
            "Overwriting BugReduction.c\n"
          ]
        }
      ],
      "source": [
        "%%writefile BugReduction.c\n",
        "\n",
        "#include <omp.h>\n",
        "#include <stdio.h>\n",
        "#include <stdlib.h>\n",
        "\n",
        "float sum = 0;\n",
        "\n",
        "float dotprod(float * a, float * b, size_t N)\n",
        "{\n",
        "    int i, tid;\n",
        "    sum = 0.0;\n",
        "    tid = omp_get_thread_num();\n",
        "\n",
        "    #pragma omp for private(i) reduction(+:sum)\n",
        "    for (i = 0; i < N; ++i)\n",
        "    {\n",
        "        sum += a[i] * b[i];\n",
        "        printf(\"tid = %d i = %d\\n\", tid, i);\n",
        "    }\n",
        "\n",
        "    return sum;\n",
        "}\n",
        "\n",
        "int main (int argc, char *argv[])\n",
        "{\n",
        "    const size_t N = 100;\n",
        "    int i;\n",
        "    float a[N], b[N];\n",
        "\n",
        "\n",
        "    for (i = 0; i < N; ++i)\n",
        "    {\n",
        "        a[i] = b[i] = (double)i;\n",
        "    }\n",
        "\n",
        "    sum = 0.0;\n",
        "\n",
        "    #pragma omp parallel shared(sum)\n",
        "    dotprod(a, b, N);\n",
        "\n",
        "    printf(\"Sum = %f\\n\",sum);\n",
        "\n",
        "    return 0;\n",
        "}"
      ]
    },
    {
      "cell_type": "code",
      "source": [
        "!gcc BugReduction.c -fopenmp\n",
        "!./a.out"
      ],
      "metadata": {
        "colab": {
          "base_uri": "https://localhost:8080/"
        },
        "id": "NGkmkw0WqM9F",
        "outputId": "a2d45c21-c6f5-4d98-a038-0ca0a9d667fa"
      },
      "execution_count": 204,
      "outputs": [
        {
          "output_type": "stream",
          "name": "stdout",
          "text": [
            "tid = 1 i = 50\n",
            "tid = 1 i = 51\n",
            "tid = 1 i = 52\n",
            "tid = 1 i = 53\n",
            "tid = 1 i = 54\n",
            "tid = 1 i = 55\n",
            "tid = 1 i = 56\n",
            "tid = 1 i = 57\n",
            "tid = 1 i = 58\n",
            "tid = 1 i = 59\n",
            "tid = 1 i = 60\n",
            "tid = 1 i = 61\n",
            "tid = 1 i = 62\n",
            "tid = 1 i = 63\n",
            "tid = 1 i = 64\n",
            "tid = 1 i = 65\n",
            "tid = 1 i = 66\n",
            "tid = 1 i = 67\n",
            "tid = 1 i = 68\n",
            "tid = 1 i = 69\n",
            "tid = 1 i = 70\n",
            "tid = 1 i = 71\n",
            "tid = 1 i = 72\n",
            "tid = 1 i = 73\n",
            "tid = 1 i = 74\n",
            "tid = 1 i = 75\n",
            "tid = 1 i = 76\n",
            "tid = 1 i = 77\n",
            "tid = 1 i = 78\n",
            "tid = 1 i = 79\n",
            "tid = 1 i = 80\n",
            "tid = 1 i = 81\n",
            "tid = 1 i = 82\n",
            "tid = 1 i = 83\n",
            "tid = 1 i = 84\n",
            "tid = 1 i = 85\n",
            "tid = 1 i = 86\n",
            "tid = 1 i = 87\n",
            "tid = 1 i = 88\n",
            "tid = 1 i = 89\n",
            "tid = 1 i = 90\n",
            "tid = 1 i = 91\n",
            "tid = 1 i = 92\n",
            "tid = 1 i = 93\n",
            "tid = 1 i = 94\n",
            "tid = 1 i = 95\n",
            "tid = 1 i = 96\n",
            "tid = 1 i = 97\n",
            "tid = 1 i = 98\n",
            "tid = 1 i = 99\n",
            "tid = 0 i = 0\n",
            "tid = 0 i = 1\n",
            "tid = 0 i = 2\n",
            "tid = 0 i = 3\n",
            "tid = 0 i = 4\n",
            "tid = 0 i = 5\n",
            "tid = 0 i = 6\n",
            "tid = 0 i = 7\n",
            "tid = 0 i = 8\n",
            "tid = 0 i = 9\n",
            "tid = 0 i = 10\n",
            "tid = 0 i = 11\n",
            "tid = 0 i = 12\n",
            "tid = 0 i = 13\n",
            "tid = 0 i = 14\n",
            "tid = 0 i = 15\n",
            "tid = 0 i = 16\n",
            "tid = 0 i = 17\n",
            "tid = 0 i = 18\n",
            "tid = 0 i = 19\n",
            "tid = 0 i = 20\n",
            "tid = 0 i = 21\n",
            "tid = 0 i = 22\n",
            "tid = 0 i = 23\n",
            "tid = 0 i = 24\n",
            "tid = 0 i = 25\n",
            "tid = 0 i = 26\n",
            "tid = 0 i = 27\n",
            "tid = 0 i = 28\n",
            "tid = 0 i = 29\n",
            "tid = 0 i = 30\n",
            "tid = 0 i = 31\n",
            "tid = 0 i = 32\n",
            "tid = 0 i = 33\n",
            "tid = 0 i = 34\n",
            "tid = 0 i = 35\n",
            "tid = 0 i = 36\n",
            "tid = 0 i = 37\n",
            "tid = 0 i = 38\n",
            "tid = 0 i = 39\n",
            "tid = 0 i = 40\n",
            "tid = 0 i = 41\n",
            "tid = 0 i = 42\n",
            "tid = 0 i = 43\n",
            "tid = 0 i = 44\n",
            "tid = 0 i = 45\n",
            "tid = 0 i = 46\n",
            "tid = 0 i = 47\n",
            "tid = 0 i = 48\n",
            "tid = 0 i = 49\n",
            "Sum = 328350.000000\n"
          ]
        }
      ]
    },
    {
      "cell_type": "markdown",
      "source": [
        "## II.2"
      ],
      "metadata": {
        "id": "TrDXGZucrb7l"
      }
    },
    {
      "cell_type": "markdown",
      "source": [
        "The bug was that we cannot use *schedule(...)* for *#pragma omp parallel*. We need to apply it for *#pragma omp for*."
      ],
      "metadata": {
        "id": "J7PTf5AHryam"
      }
    },
    {
      "cell_type": "code",
      "source": [
        "%%writefile BugParFor.c\n",
        "\n",
        "#include <omp.h>\n",
        "#include <stdio.h>\n",
        "#include <stdlib.h>\n",
        "\n",
        "int main (int argc, char *argv[])\n",
        "{\n",
        "    const size_t N = 100;\n",
        "    const size_t chunk = 3;\n",
        "\n",
        "    int i, tid;\n",
        "    float a[N], b[N], c[N];\n",
        "\n",
        "    for (i = 0; i < N; ++i)\n",
        "    {\n",
        "        a[i] = b[i] = (float)i;\n",
        "    }\n",
        "\n",
        "    /* The bug was that we cannot\n",
        "     * use schedule(...) for #pragma omp parallel.\n",
        "     * We need to apply it for #pragma omp for\n",
        "     */\n",
        "\n",
        "    #pragma omp parallel \\\n",
        "    shared(a,b,c,chunk) \\\n",
        "    private(i,tid)\n",
        "    {\n",
        "        tid = omp_get_thread_num();\n",
        "\n",
        "    \t#pragma omp for schedule(static,chunk)\n",
        "    \tfor (i = 0; i < N; ++i)\n",
        "    \t{\n",
        "    \t\tc[i] = a[i] + b[i];\n",
        "     \t\tprintf(\"tid = %d, c[%d] = %f\\n\", tid, i, c[i]);\n",
        "    \t}\n",
        "    }\n",
        "    return 0;\n",
        "}"
      ],
      "metadata": {
        "colab": {
          "base_uri": "https://localhost:8080/"
        },
        "id": "J_vrfFeRravt",
        "outputId": "fa967984-2861-47dc-ab37-a24c78bedff8"
      },
      "execution_count": 205,
      "outputs": [
        {
          "output_type": "stream",
          "name": "stdout",
          "text": [
            "Overwriting BugParFor.c\n"
          ]
        }
      ]
    },
    {
      "cell_type": "code",
      "source": [
        "!gcc BugParFor.c -fopenmp\n",
        "!./a.out"
      ],
      "metadata": {
        "id": "vim5ci7IrpmC",
        "colab": {
          "base_uri": "https://localhost:8080/"
        },
        "outputId": "d1ceaba4-6d57-492c-9c05-4cd9a7fd8c89"
      },
      "execution_count": 206,
      "outputs": [
        {
          "output_type": "stream",
          "name": "stdout",
          "text": [
            "tid = 0, c[0] = 0.000000\n",
            "tid = 0, c[1] = 2.000000\n",
            "tid = 0, c[2] = 4.000000\n",
            "tid = 0, c[6] = 12.000000\n",
            "tid = 0, c[7] = 14.000000\n",
            "tid = 0, c[8] = 16.000000\n",
            "tid = 0, c[12] = 24.000000\n",
            "tid = 0, c[13] = 26.000000\n",
            "tid = 0, c[14] = 28.000000\n",
            "tid = 0, c[18] = 36.000000\n",
            "tid = 0, c[19] = 38.000000\n",
            "tid = 0, c[20] = 40.000000\n",
            "tid = 0, c[24] = 48.000000\n",
            "tid = 0, c[25] = 50.000000\n",
            "tid = 0, c[26] = 52.000000\n",
            "tid = 0, c[30] = 60.000000\n",
            "tid = 0, c[31] = 62.000000\n",
            "tid = 0, c[32] = 64.000000\n",
            "tid = 0, c[36] = 72.000000\n",
            "tid = 0, c[37] = 74.000000\n",
            "tid = 0, c[38] = 76.000000\n",
            "tid = 0, c[42] = 84.000000\n",
            "tid = 0, c[43] = 86.000000\n",
            "tid = 0, c[44] = 88.000000\n",
            "tid = 0, c[48] = 96.000000\n",
            "tid = 0, c[49] = 98.000000\n",
            "tid = 0, c[50] = 100.000000\n",
            "tid = 0, c[54] = 108.000000\n",
            "tid = 0, c[55] = 110.000000\n",
            "tid = 0, c[56] = 112.000000\n",
            "tid = 0, c[60] = 120.000000\n",
            "tid = 0, c[61] = 122.000000\n",
            "tid = 0, c[62] = 124.000000\n",
            "tid = 0, c[66] = 132.000000\n",
            "tid = 0, c[67] = 134.000000\n",
            "tid = 0, c[68] = 136.000000\n",
            "tid = 0, c[72] = 144.000000\n",
            "tid = 0, c[73] = 146.000000\n",
            "tid = 0, c[74] = 148.000000\n",
            "tid = 0, c[78] = 156.000000\n",
            "tid = 0, c[79] = 158.000000\n",
            "tid = 0, c[80] = 160.000000\n",
            "tid = 0, c[84] = 168.000000\n",
            "tid = 0, c[85] = 170.000000\n",
            "tid = 0, c[86] = 172.000000\n",
            "tid = 0, c[90] = 180.000000\n",
            "tid = 0, c[91] = 182.000000\n",
            "tid = 0, c[92] = 184.000000\n",
            "tid = 0, c[96] = 192.000000\n",
            "tid = 0, c[97] = 194.000000\n",
            "tid = 0, c[98] = 196.000000\n",
            "tid = 1, c[3] = 6.000000\n",
            "tid = 1, c[4] = 8.000000\n",
            "tid = 1, c[5] = 10.000000\n",
            "tid = 1, c[9] = 18.000000\n",
            "tid = 1, c[10] = 20.000000\n",
            "tid = 1, c[11] = 22.000000\n",
            "tid = 1, c[15] = 30.000000\n",
            "tid = 1, c[16] = 32.000000\n",
            "tid = 1, c[17] = 34.000000\n",
            "tid = 1, c[21] = 42.000000\n",
            "tid = 1, c[22] = 44.000000\n",
            "tid = 1, c[23] = 46.000000\n",
            "tid = 1, c[27] = 54.000000\n",
            "tid = 1, c[28] = 56.000000\n",
            "tid = 1, c[29] = 58.000000\n",
            "tid = 1, c[33] = 66.000000\n",
            "tid = 1, c[34] = 68.000000\n",
            "tid = 1, c[35] = 70.000000\n",
            "tid = 1, c[39] = 78.000000\n",
            "tid = 1, c[40] = 80.000000\n",
            "tid = 1, c[41] = 82.000000\n",
            "tid = 1, c[45] = 90.000000\n",
            "tid = 1, c[46] = 92.000000\n",
            "tid = 1, c[47] = 94.000000\n",
            "tid = 1, c[51] = 102.000000\n",
            "tid = 1, c[52] = 104.000000\n",
            "tid = 1, c[53] = 106.000000\n",
            "tid = 1, c[57] = 114.000000\n",
            "tid = 1, c[58] = 116.000000\n",
            "tid = 1, c[59] = 118.000000\n",
            "tid = 1, c[63] = 126.000000\n",
            "tid = 1, c[64] = 128.000000\n",
            "tid = 1, c[65] = 130.000000\n",
            "tid = 1, c[69] = 138.000000\n",
            "tid = 1, c[70] = 140.000000\n",
            "tid = 1, c[71] = 142.000000\n",
            "tid = 1, c[75] = 150.000000\n",
            "tid = 1, c[76] = 152.000000\n",
            "tid = 1, c[77] = 154.000000\n",
            "tid = 1, c[81] = 162.000000\n",
            "tid = 1, c[82] = 164.000000\n",
            "tid = 1, c[83] = 166.000000\n",
            "tid = 1, c[87] = 174.000000\n",
            "tid = 1, c[88] = 176.000000\n",
            "tid = 1, c[89] = 178.000000\n",
            "tid = 1, c[93] = 186.000000\n",
            "tid = 1, c[94] = 188.000000\n",
            "tid = 1, c[95] = 190.000000\n",
            "tid = 1, c[99] = 198.000000\n"
          ]
        }
      ]
    },
    {
      "cell_type": "markdown",
      "source": [],
      "metadata": {
        "id": "LtXhBvqWsLsA"
      }
    },
    {
      "cell_type": "markdown",
      "source": [
        "## III.1"
      ],
      "metadata": {
        "id": "NK2kQfIRsQMH"
      }
    },
    {
      "cell_type": "markdown",
      "source": [
        "To parallelize the code we can use *reduction*, assigning variable *x* as private."
      ],
      "metadata": {
        "id": "ggdq2RiVsdcp"
      }
    },
    {
      "cell_type": "code",
      "source": [
        "%%writefile Pi.c\n",
        "\n",
        "#include <stdio.h>\n",
        "\n",
        "int main()\n",
        "{\n",
        "    const size_t N = 100000;\n",
        "    double step;\n",
        "\n",
        "    double x, pi, sum = 0.;\n",
        "\n",
        "    step = 1. / (double)N;\n",
        "\n",
        "    /* To parallelize the code we can\n",
        "     * use reduction(..), taking into account\n",
        "     * that x needs to be private */\n",
        "\n",
        "    #pragma omp parallel for reduction(+:sum) \\\n",
        "    private(x)\n",
        "    for (int i = 0; i < N; ++i)\n",
        "    {\n",
        "        x = (i + 0.5) * step;\n",
        "        sum += 4.0 / (1. + x * x);\n",
        "    }\n",
        "\n",
        "    pi = step * sum;\n",
        "\n",
        "    printf(\"pi = %.16f\\n\", pi);\n",
        "\n",
        "    return 0;\n",
        "}"
      ],
      "metadata": {
        "colab": {
          "base_uri": "https://localhost:8080/"
        },
        "id": "OEYetukWsRnm",
        "outputId": "3e140db9-5cf6-46a4-d830-7f92ba424236"
      },
      "execution_count": 207,
      "outputs": [
        {
          "output_type": "stream",
          "name": "stdout",
          "text": [
            "Overwriting Pi.c\n"
          ]
        }
      ]
    },
    {
      "cell_type": "code",
      "source": [
        "!gcc Pi.c -fopenmp\n",
        "!./a.out"
      ],
      "metadata": {
        "colab": {
          "base_uri": "https://localhost:8080/"
        },
        "id": "IBYIkZdNsboz",
        "outputId": "48a1f388-f06f-4f44-8bd9-3e95effff18f"
      },
      "execution_count": 208,
      "outputs": [
        {
          "output_type": "stream",
          "name": "stdout",
          "text": [
            "pi = 3.1415926535981464\n"
          ]
        }
      ]
    },
    {
      "cell_type": "code",
      "source": [],
      "metadata": {
        "id": "YtLhsfAOsvQ1"
      },
      "execution_count": 208,
      "outputs": []
    },
    {
      "cell_type": "markdown",
      "source": [
        "## III.2"
      ],
      "metadata": {
        "id": "KQ00tmzjs0iy"
      }
    },
    {
      "cell_type": "markdown",
      "source": [
        "We will use the following code to shift a car in the picture. There is a function *move()* that implements one step move of the car. Parallelization of the processes are used there, defining private and shared variables. Moreover, approach implemented below is safe, because it changes rows independently."
      ],
      "metadata": {
        "id": "gj7chUNpvFHL"
      }
    },
    {
      "cell_type": "code",
      "source": [
        "%%writefile Car.cpp\n",
        "\n",
        "#include <fstream>\n",
        "#include <iostream>\n",
        "#include <stdlib.h>\n",
        "#include <string>\n",
        "#include <thread>\n",
        "#include <time.h>\n",
        "#include <omp.h>\n",
        "\n",
        "#define RGB_COMPONENT_COLOR 255\n",
        "\n",
        "static const auto THREADS = std::thread::hardware_concurrency();\n",
        "\n",
        "struct PPMPixel {\n",
        "  int red;\n",
        "  int green;\n",
        "  int blue;\n",
        "};\n",
        "\n",
        "typedef struct {\n",
        "  int x, y, all;\n",
        "  PPMPixel *data;\n",
        "} PPMImage;\n",
        "\n",
        "void readPPM(const char *filename, PPMImage &img){\n",
        "    std::ifstream file(filename);\n",
        "    if (file) {\n",
        "        std::string s;\n",
        "        int rgb_comp_color;\n",
        "        file >> s;\n",
        "        if (s != \"P3\") {\n",
        "            std::cout << \"error in format\" << std::endl;\n",
        "            exit(9);\n",
        "        }\n",
        "        file >> img.x >> img.y;\n",
        "        file >> rgb_comp_color;\n",
        "        img.all = img.x * img.y;\n",
        "        std::cout << s << std::endl;\n",
        "        std::cout << \"x=\" << img.x << \" y=\" << img.y << \" all=\" << img.all\n",
        "                  << std::endl;\n",
        "        img.data = new PPMPixel[img.all];\n",
        "        for (int i = 0; i < img.all; i++) {\n",
        "            file >> img.data[i].red >> img.data[i].green >> img.data[i].blue;\n",
        "        }\n",
        "    } else {\n",
        "        std::cout << \"the file:\" << filename << \"was not found\" << std::endl;\n",
        "    }\n",
        "    file.close();\n",
        "}\n",
        "\n",
        "void writePPM(const char *filename, PPMImage &img) {\n",
        "    std::ofstream file(filename, std::ofstream::out);\n",
        "    file << \"P3\" << std::endl;\n",
        "    file << img.x << \" \" << img.y << \" \" << std::endl;\n",
        "    file << RGB_COMPONENT_COLOR << std::endl;\n",
        "\n",
        "    for (int i = 0; i < img.all; i++) {\n",
        "        file << img.data[i].red << \" \" << img.data[i].green << \" \"\n",
        "             << img.data[i].blue << (((i + 1) % img.x == 0) ? \"\\n\" : \" \");\n",
        "    }\n",
        "    file.close();\n",
        "}\n",
        "\n",
        "void move(PPMImage &img){\n",
        "\tint Nx = img.x;\n",
        "\tint Ny = img.y;\n",
        "\tPPMPixel a;\n",
        "\t#pragma omp parallel for shared(img) private(a)\n",
        "\tfor (int i = 0; i<Ny; i++){\n",
        "\t\ta = img.data[Nx - 1 + i * Nx];\n",
        "\t\tfor (int j = Nx - 1; j>=1; j--){\n",
        "\t\t\timg.data[j + i*Nx] = img.data[j + i*Nx - 1];\n",
        "\t\t}\n",
        "\t\timg.data[i*Nx] = a;\n",
        "\t}\n",
        "}\n",
        "\n",
        "int main(int argc, char *argv[]) {\n",
        "    //omp_set_dynamic(0);\n",
        "    //omp_set_num_threads(2);\n",
        "    PPMImage image;\n",
        "    readPPM(\"car.ppm\", image);\n",
        "    double start = omp_get_wtime();\n",
        "    for (int i = 0; i<14000; i++)\n",
        "    \tmove(image);\n",
        "    double end = omp_get_wtime();\n",
        "    writePPM(\"new_car.ppm\", image);\n",
        "    printf(\"Time: %f\", ((double) (end - start)));\n",
        "    return 0;\n",
        "}"
      ],
      "metadata": {
        "colab": {
          "base_uri": "https://localhost:8080/"
        },
        "id": "qWZ92jf3s2Fc",
        "outputId": "1733518e-dafe-4e55-ac1f-c78c658b3632"
      },
      "execution_count": 209,
      "outputs": [
        {
          "output_type": "stream",
          "name": "stdout",
          "text": [
            "Overwriting Car.cpp\n"
          ]
        }
      ]
    },
    {
      "cell_type": "code",
      "source": [
        "!g++ Car.cpp -fopenmp\n",
        "!./a.out"
      ],
      "metadata": {
        "colab": {
          "base_uri": "https://localhost:8080/"
        },
        "id": "hPswhUu2tA3G",
        "outputId": "3379840b-1b97-4aca-8989-6fbd46bcefba"
      },
      "execution_count": 210,
      "outputs": [
        {
          "output_type": "stream",
          "name": "stdout",
          "text": [
            "P3\n",
            "x=303 y=166 all=50298\n",
            "Time: 4.805185"
          ]
        }
      ]
    },
    {
      "cell_type": "markdown",
      "source": [
        "Let's see the moving car."
      ],
      "metadata": {
        "id": "o0T7g6NxvsFJ"
      }
    },
    {
      "cell_type": "code",
      "source": [
        "import cv2\n",
        "import matplotlib.pyplot as plt\n",
        "img = cv2.imread(\"new_car.ppm\")\n",
        "plt.imshow(img)\n",
        "plt.plot()"
      ],
      "metadata": {
        "colab": {
          "base_uri": "https://localhost:8080/",
          "height": 354
        },
        "id": "FL0X7RYhtaRx",
        "outputId": "9c8f2d0b-1c46-413d-a84c-fddc76ecfcd5"
      },
      "execution_count": 211,
      "outputs": [
        {
          "output_type": "execute_result",
          "data": {
            "text/plain": [
              "[]"
            ]
          },
          "metadata": {},
          "execution_count": 211
        },
        {
          "output_type": "display_data",
          "data": {
            "text/plain": [
              "<Figure size 640x480 with 1 Axes>"
            ],
            "image/png": "[encoded data removed]"
          },
          "metadata": {}
        }
      ]
    },
    {
      "cell_type": "markdown",
      "source": [
        "## III.1"
      ],
      "metadata": {
        "id": "occCRV-8vzgv"
      }
    },
    {
      "cell_type": "markdown",
      "source": [
        "In this code Jacobi method is implemented and is paralellized. To verify the code diagonally-dominated mattirix is created."
      ],
      "metadata": {
        "id": "5KC22e3-2chd"
      }
    },
    {
      "cell_type": "code",
      "source": [
        "%%writefile Jacobi.c\n",
        "#include <stdio.h>\n",
        "#include <stdlib.h>\n",
        "#include <omp.h>\n",
        "\n",
        "#define N 1000\n",
        "\n",
        "void printMatrix(float a[N][N]){\n",
        "\tfor(int i = 0; i < N; i++){\n",
        "\t\tfor(int j = 0; j<N; j++){\n",
        "\t\t\tprintf(\"%.1f \", a[i][j]);\n",
        "\t\t}\n",
        "\t\tprintf(\"\\n\");\n",
        "\t}\n",
        "}\n",
        "\n",
        "void printVector(float v[N]){\n",
        "\tfor (int i = 0; i<N; i++)\n",
        "\t\tprintf(\"%.6f   \", v[i]);\n",
        "\tprintf(\"\\n\");\n",
        "}\n",
        "\n",
        "void jacobiIterations(int its, float mat[N][N], float x0[N], float b[N]){\n",
        "\tfloat x_next[N];\n",
        "\tfor (int p = 0; p < its; p++){\n",
        "\t\t#pragma omp parallel for shared(x_next)\n",
        "\t\tfor(int i = 0; i < N; i++){\n",
        "\t\t\tx_next[i] = b[i]/mat[i][i];\n",
        "\t\t\tfor(int j = 0; j < N; j++){\n",
        "\t\t\t\tx_next[i] += (i==j ? 0. : -mat[i][j]*x0[j]/mat[i][i]);\n",
        "\t\t\t}\n",
        "\t\t}\n",
        "\t\t#pragma omp parallel for shared(x0, x_next)\n",
        "\t\tfor(int i = 0; i<N; i++)\n",
        "\t\t\tx0[i] = x_next[i];\n",
        "\n",
        "\t}\n",
        "}\n",
        "\n",
        "int main(int argc, char **argv){\n",
        "  omp_set_dynamic(0);\n",
        "  omp_set_num_threads(atoi(argv[2]));\n",
        "\tfloat mat[N][N];\n",
        "\tfor(int i = 0; i<N; i++){\n",
        "\t\tfor (int j = 0; j<N; j++){\n",
        "\t\t\tmat[i][j] = i==j ? 3*N : i+j;\n",
        "\t\t}\n",
        "\t}\n",
        "\tfloat x0[N];\n",
        "\tfloat b[N];\n",
        "\tfor (int i = 0; i<N; i++){\n",
        "\t\tx0[i] = 0.;\n",
        "\t\tb[i] = (double) i;\n",
        "\t}\n",
        "  double start = omp_get_wtime();\n",
        "\n",
        "\tjacobiIterations(200, mat, x0, b);\n",
        "  double end = omp_get_wtime();\n",
        "\tprintf(\"Number of threads: %d, Time: %f \\n\", atoi(argv[2]), end - start);\n",
        "\t//printVector(x0);\n",
        "\t//printMatrix(mat);\n",
        "\treturn 0;\n",
        "}"
      ],
      "metadata": {
        "colab": {
          "base_uri": "https://localhost:8080/"
        },
        "id": "E1kAGeVxv08X",
        "outputId": "a612093b-ab34-43ad-ae61-00f8d96353dd"
      },
      "execution_count": 212,
      "outputs": [
        {
          "output_type": "stream",
          "name": "stdout",
          "text": [
            "Overwriting Jacobi.c\n"
          ]
        }
      ]
    },
    {
      "cell_type": "code",
      "source": [
        "!gcc Jacobi.c -fopenmp\n",
        "!./a.out u 2\n",
        "!./a.out u 1"
      ],
      "metadata": {
        "id": "POALgRSlwEwn",
        "colab": {
          "base_uri": "https://localhost:8080/"
        },
        "outputId": "604d2315-0069-4b2b-f376-4eb8c1435b7b"
      },
      "execution_count": 213,
      "outputs": [
        {
          "output_type": "stream",
          "name": "stdout",
          "text": [
            "Number of threads: 2, Time: 1.419151 \n",
            "Number of threads: 1, Time: 1.731192 \n"
          ]
        }
      ]
    },
    {
      "cell_type": "markdown",
      "source": [
        "## III.2"
      ],
      "metadata": {
        "id": "wKqy29Fw3K-o"
      }
    },
    {
      "cell_type": "markdown",
      "source": [
        "In this case Gradient Descent method is implemented. It is an iterative method. We can use reduction to correctly parallelize the code."
      ],
      "metadata": {
        "id": "GGc9DB4E48-X"
      }
    },
    {
      "cell_type": "code",
      "source": [
        "%%writefile GDM.c\n",
        "#include <stdio.h>\n",
        "#include <stdlib.h>\n",
        "#include <math.h>\n",
        "#include <omp.h>\n",
        "\n",
        "#define N 100000\n",
        "#define its 10000\n",
        "#define alpha 0.0000001\n",
        "\n",
        "int main(int argc, char **argv){\n",
        "\tomp_set_dynamic(0);\n",
        "  omp_set_num_threads(atoi(argv[2]));\n",
        "\tfloat a_ex = 2.;\n",
        "\tfloat b_ex = -1.;\n",
        "\tfloat x[N], y[N];\n",
        "\tfor (int i = 0; i< N; i++)\n",
        "\t\tx[i] = -10. + 20. * ((double) i/(N-1));\n",
        "\tfor (int i = 0; i< N; i++)\n",
        "\t\ty[i] = a_ex * x[i] + b_ex + 0.1*((double) (2*rand() - RAND_MAX)/RAND_MAX);\n",
        "\n",
        "  printf(\"Exact values a = %.4f, b = %.4f \\n\", a_ex, b_ex);\n",
        "\tfloat a = 0.;\n",
        "\tfloat b = 0.;\n",
        "\tdouble start = omp_get_wtime();\n",
        "\twhile(1){\n",
        "\t\tfloat suma = 0.0;\n",
        "\t\tfloat sumb = 0.0;\n",
        "\t\t#pragma omp parallel for reduction(-:suma, sumb)\n",
        "\tfor (int i = 0; i < N; i++){\n",
        "\t\t\tsuma -= 2*x[i]*(y[i] - a*x[i] - b);\n",
        "\t\t\tsumb -= 2*(y[i] - a*x[i] - b);\n",
        "\t\t}\n",
        "    if ((fabs(alpha*suma) + fabs(alpha*sumb)) < 1e-6)\n",
        "\t\t\tbreak;\n",
        "\t\ta = a - alpha * suma;\n",
        "\t\tb = b - alpha * sumb;\n",
        "\t}\n",
        "\tdouble end = omp_get_wtime();\n",
        "\tprintf(\"a = %f, \\n b = %f \\n\", a, b);\n",
        "\tprintf(\"Number of threads: %d, Time: %f \\n\", atoi(argv[2]), end - start);\n",
        "\t//for (int i = 0; i<N; i++)\n",
        "\t//\tprintf(\"%.2f   \", x[i]);\n",
        "\treturn 0;\n",
        "}"
      ],
      "metadata": {
        "colab": {
          "base_uri": "https://localhost:8080/"
        },
        "id": "1B8z_85b3PPI",
        "outputId": "638d97ae-9735-4da8-a106-b1482e845565"
      },
      "execution_count": 4,
      "outputs": [
        {
          "output_type": "stream",
          "name": "stdout",
          "text": [
            "Overwriting GDM.c\n"
          ]
        }
      ]
    },
    {
      "cell_type": "code",
      "source": [
        "!gcc GDM.c -fopenmp\n",
        "!./a.out u 2\n",
        "!./a.out u 1"
      ],
      "metadata": {
        "colab": {
          "base_uri": "https://localhost:8080/"
        },
        "id": "ky1yr9rs3YJq",
        "outputId": "fb4ab8d2-70c6-4233-afb1-3858ea765a4f"
      },
      "execution_count": 3,
      "outputs": [
        {
          "output_type": "stream",
          "name": "stdout",
          "text": [
            "Exact values a = 2.0000, b = -1.0000 \n",
            "a = 2.000048, \n",
            " b = -0.999977 \n",
            "Number of threads: 2, Time: 0.361744 \n",
            "Exact values a = 2.0000, b = -1.0000 \n",
            "a = 2.000048, \n",
            " b = -0.999977 \n",
            "Number of threads: 1, Time: 0.641309 \n"
          ]
        }
      ]
    },
    {
      "cell_type": "markdown",
      "source": [
        "We see that times are very different."
      ],
      "metadata": {
        "id": "ToYa9cFm6Rd4"
      }
    }
  ]
}